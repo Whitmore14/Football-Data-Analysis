{
 "cells": [
  {
   "cell_type": "markdown",
   "metadata": {},
   "source": [
    "# Goalkeeper Comparison\n",
    "\n",
    "## Introduction\n",
    "\n",
    "Following the analysis of a recent article about Jan Oblak's clean sheets statistic that's received a lot of media coverage, I thought I'd research some of my suggested improvements. The article can be found below:\n",
    "\n",
    "https://www.thesportsman.com/articles/the-staggering-statistic-that-proves-jan-oblak-is-better-than-david-de-gea\n",
    "\n",
    "The two improvements that I will investigate are a comparison between a larger sample of the best goalkeepers and to compare the ratios of clean sheets to goals conceded to quantify the differences between them.\n",
    "\n",
    "The data in this analysis was collected from https://www.transfermarkt.co.uk/ from the start of the 2013/14 season up to the date of the article, in order to maintain consistency. I have collated league appearances, clean sheets and goals conceded for the following goalkeepers:\n",
    "\n",
    "- Jan Oblak\n",
    "- Manuel Neuer\n",
    "- David De Gea\n",
    "- Gianlugi Buffon\n",
    "- Thibaut Courtois\n",
    "- Marc-Andre Ter Stegen\n",
    "- Keylor Navas\n",
    "\n",
    "These players were chosen for comparison based on the three players mentioned in the article, alongside those who beat Jan Oblak to the shortlist for the World XI at the Best Fifa Men's Player Award.\n",
    "\n",
    "NOTE: The relevant data online was quite inconsistent between websites so I decided to select the source that passed a number of sense checks with independent sources and collected all of the data from only here to maintain consistency. The statistics quoted in the article match to this data."
   ]
  },
  {
   "cell_type": "code",
   "execution_count": 1,
   "metadata": {},
   "outputs": [],
   "source": [
    "import pandas as pd\n",
    "import numpy as np\n",
    "import matplotlib.pyplot as plt\n",
    "\n",
    "#DATA SOURCE \"https://www.transfermarkt.co.uk/gianluigi-buffon/leistungsdaten/spieler/5023/plus/0?saison=2016\"\n",
    "\n",
    "#IMPORT DATA\n",
    "goalkeeper = pd.read_excel('Goalkeeper_Data.xlsx', sheet_name = 'Data_TransferMarkt')"
   ]
  },
  {
   "cell_type": "code",
   "execution_count": 2,
   "metadata": {},
   "outputs": [
    {
     "data": {
      "text/html": [
       "<div>\n",
       "<style scoped>\n",
       "    .dataframe tbody tr th:only-of-type {\n",
       "        vertical-align: middle;\n",
       "    }\n",
       "\n",
       "    .dataframe tbody tr th {\n",
       "        vertical-align: top;\n",
       "    }\n",
       "\n",
       "    .dataframe thead th {\n",
       "        text-align: right;\n",
       "    }\n",
       "</style>\n",
       "<table border=\"1\" class=\"dataframe\">\n",
       "  <thead>\n",
       "    <tr style=\"text-align: right;\">\n",
       "      <th></th>\n",
       "      <th>Appearances</th>\n",
       "      <th>Clean sheets</th>\n",
       "      <th>Goals conceded</th>\n",
       "      <th>CS:GC</th>\n",
       "    </tr>\n",
       "    <tr>\n",
       "      <th>Player</th>\n",
       "      <th></th>\n",
       "      <th></th>\n",
       "      <th></th>\n",
       "      <th></th>\n",
       "    </tr>\n",
       "  </thead>\n",
       "  <tbody>\n",
       "    <tr>\n",
       "      <th>Gianluigi Buffon</th>\n",
       "      <td>156</td>\n",
       "      <td>87</td>\n",
       "      <td>96</td>\n",
       "      <td>0.906250</td>\n",
       "    </tr>\n",
       "    <tr>\n",
       "      <th>Jan Oblak</th>\n",
       "      <td>139</td>\n",
       "      <td>86</td>\n",
       "      <td>74</td>\n",
       "      <td>1.162162</td>\n",
       "    </tr>\n",
       "    <tr>\n",
       "      <th>Manuel Neuer</th>\n",
       "      <td>133</td>\n",
       "      <td>74</td>\n",
       "      <td>72</td>\n",
       "      <td>1.027778</td>\n",
       "    </tr>\n",
       "    <tr>\n",
       "      <th>Thibaut Courtois</th>\n",
       "      <td>168</td>\n",
       "      <td>71</td>\n",
       "      <td>150</td>\n",
       "      <td>0.473333</td>\n",
       "    </tr>\n",
       "    <tr>\n",
       "      <th>David De Gea</th>\n",
       "      <td>187</td>\n",
       "      <td>71</td>\n",
       "      <td>181</td>\n",
       "      <td>0.392265</td>\n",
       "    </tr>\n",
       "    <tr>\n",
       "      <th>Marc-Andre Ter Stegen</th>\n",
       "      <td>121</td>\n",
       "      <td>46</td>\n",
       "      <td>119</td>\n",
       "      <td>0.386555</td>\n",
       "    </tr>\n",
       "    <tr>\n",
       "      <th>Keylor Navas</th>\n",
       "      <td>133</td>\n",
       "      <td>46</td>\n",
       "      <td>133</td>\n",
       "      <td>0.345865</td>\n",
       "    </tr>\n",
       "  </tbody>\n",
       "</table>\n",
       "</div>"
      ],
      "text/plain": [
       "                       Appearances  Clean sheets  Goals conceded     CS:GC\n",
       "Player                                                                    \n",
       "Gianluigi Buffon               156            87              96  0.906250\n",
       "Jan Oblak                      139            86              74  1.162162\n",
       "Manuel Neuer                   133            74              72  1.027778\n",
       "Thibaut Courtois               168            71             150  0.473333\n",
       "David De Gea                   187            71             181  0.392265\n",
       "Marc-Andre Ter Stegen          121            46             119  0.386555\n",
       "Keylor Navas                   133            46             133  0.345865"
      ]
     },
     "metadata": {},
     "output_type": "display_data"
    },
    {
     "data": {
      "text/plain": [
       "<matplotlib.axes._subplots.AxesSubplot at 0x26d162e8e80>"
      ]
     },
     "metadata": {},
     "output_type": "display_data"
    },
    {
     "data": {
      "image/png": "[encoded data removed]",
      "text/plain": [
       "<Figure size 432x288 with 1 Axes>"
      ]
     },
     "metadata": {},
     "output_type": "display_data"
    }
   ],
   "source": [
    "#ANALYSIS - since 2013/14 season (in line with the article)\n",
    "goalkeeper1 = goalkeeper.groupby(goalkeeper.Player).sum()\n",
    "goalkeeper1['CS:GC'] = goalkeeper1['Clean sheets'] / goalkeeper1['Goals conceded']\n",
    "display(goalkeeper1.sort_values(by = ['Clean sheets', 'CS:GC'], ascending = False))\n",
    "\n",
    "#Bar chart\n",
    "bar_chart = goalkeeper1.reset_index().sort_values(by = 'CS:GC', ascending = False).plot.bar(x = 'Player', y = 'CS:GC', color = 'Blue', title = 'Goalkeepers CS:GC (since 2013/14 season)')\n",
    "display(bar_chart)"
   ]
  },
  {
   "cell_type": "markdown",
   "metadata": {},
   "source": [
    "## Analysis\n",
    "\n",
    "Since 2013/14, Jan Oblak has kept an incredible 86 clean sheets and only conceded 74 goals. In the article, Jan Oblak was directly compared with only David De Gea and it was shown that Jan Oblak was statistically superior over this period of time. However, if the comparison is made with other top goalkeepers in the world, Jan Oblak's achievement can be put into context. \n",
    "\n",
    "David De Gea is actually outperformed by a number of goalkeepers during this period. Gianluigi Buffon tops the table in terms of clean sheets since the 2013/14 season after a number of successful seasons in Serie A with Juventus, beating Oblak by one. Oblak's total is arguably a more impressive given that he achieved his total in 17 less games (156 appearances compared to 139). Another surprising observation is that Oblak is not the only goalkeeper who boasts more clean sheets than goals conceded over this period. Manuel Neuer comes a close second with a clean sheets to goals conceded ratio of 1.03 compared to Oblak's 1.16. Given that they made a similar number of appearances over this period and Oblak kept 12 more clean sheets than Neuer, Oblak performances appear to be stastically superior.\n",
    "\n",
    "Some may argue that Oblak's achievements could be inflated by his outstanding final season with Benfica, as mentioned in the article, where he kept 14 clean sheets in 16 games in an arguably weaker league than some of his rivals. We will investigate this claim further by analysing the top goalkeepers performances since Jan Oblak joined Atletico Madrid at the start of the 2014/15 season."
   ]
  },
  {
   "cell_type": "code",
   "execution_count": 3,
   "metadata": {},
   "outputs": [
    {
     "data": {
      "text/html": [
       "<div>\n",
       "<style scoped>\n",
       "    .dataframe tbody tr th:only-of-type {\n",
       "        vertical-align: middle;\n",
       "    }\n",
       "\n",
       "    .dataframe tbody tr th {\n",
       "        vertical-align: top;\n",
       "    }\n",
       "\n",
       "    .dataframe thead th {\n",
       "        text-align: right;\n",
       "    }\n",
       "</style>\n",
       "<table border=\"1\" class=\"dataframe\">\n",
       "  <thead>\n",
       "    <tr style=\"text-align: right;\">\n",
       "      <th></th>\n",
       "      <th>Appearances</th>\n",
       "      <th>Clean sheets</th>\n",
       "      <th>Goals conceded</th>\n",
       "      <th>CS:GC</th>\n",
       "    </tr>\n",
       "    <tr>\n",
       "      <th>Player</th>\n",
       "      <th></th>\n",
       "      <th></th>\n",
       "      <th></th>\n",
       "      <th></th>\n",
       "    </tr>\n",
       "  </thead>\n",
       "  <tbody>\n",
       "    <tr>\n",
       "      <th>Jan Oblak</th>\n",
       "      <td>123</td>\n",
       "      <td>72</td>\n",
       "      <td>71</td>\n",
       "      <td>1.014085</td>\n",
       "    </tr>\n",
       "    <tr>\n",
       "      <th>Gianluigi Buffon</th>\n",
       "      <td>123</td>\n",
       "      <td>67</td>\n",
       "      <td>76</td>\n",
       "      <td>0.881579</td>\n",
       "    </tr>\n",
       "    <tr>\n",
       "      <th>Manuel Neuer</th>\n",
       "      <td>102</td>\n",
       "      <td>59</td>\n",
       "      <td>54</td>\n",
       "      <td>1.092593</td>\n",
       "    </tr>\n",
       "    <tr>\n",
       "      <th>David De Gea</th>\n",
       "      <td>150</td>\n",
       "      <td>59</td>\n",
       "      <td>138</td>\n",
       "      <td>0.427536</td>\n",
       "    </tr>\n",
       "    <tr>\n",
       "      <th>Thibaut Courtois</th>\n",
       "      <td>131</td>\n",
       "      <td>51</td>\n",
       "      <td>126</td>\n",
       "      <td>0.404762</td>\n",
       "    </tr>\n",
       "    <tr>\n",
       "      <th>Marc-Andre Ter Stegen</th>\n",
       "      <td>87</td>\n",
       "      <td>37</td>\n",
       "      <td>76</td>\n",
       "      <td>0.486842</td>\n",
       "    </tr>\n",
       "    <tr>\n",
       "      <th>Keylor Navas</th>\n",
       "      <td>96</td>\n",
       "      <td>29</td>\n",
       "      <td>94</td>\n",
       "      <td>0.308511</td>\n",
       "    </tr>\n",
       "  </tbody>\n",
       "</table>\n",
       "</div>"
      ],
      "text/plain": [
       "                       Appearances  Clean sheets  Goals conceded     CS:GC\n",
       "Player                                                                    \n",
       "Jan Oblak                      123            72              71  1.014085\n",
       "Gianluigi Buffon               123            67              76  0.881579\n",
       "Manuel Neuer                   102            59              54  1.092593\n",
       "David De Gea                   150            59             138  0.427536\n",
       "Thibaut Courtois               131            51             126  0.404762\n",
       "Marc-Andre Ter Stegen           87            37              76  0.486842\n",
       "Keylor Navas                    96            29              94  0.308511"
      ]
     },
     "metadata": {},
     "output_type": "display_data"
    },
    {
     "data": {
      "text/plain": [
       "<matplotlib.axes._subplots.AxesSubplot at 0x26d16421470>"
      ]
     },
     "metadata": {},
     "output_type": "display_data"
    },
    {
     "data": {
      "image/png": "[encoded data removed]",
      "text/plain": [
       "<Figure size 432x288 with 1 Axes>"
      ]
     },
     "metadata": {},
     "output_type": "display_data"
    }
   ],
   "source": [
    "#ANALYSIS - since 2014/15 season (while Jan Oblak has been at Atletico)\n",
    "goalkeeper2 = goalkeeper[goalkeeper.Season != \"2013/14\"]\n",
    "goalkeeper3 = goalkeeper2.groupby(goalkeeper2.Player).sum()\n",
    "goalkeeper3['CS:GC'] = goalkeeper3['Clean sheets'] / goalkeeper3['Goals conceded']\n",
    "display(goalkeeper3.sort_values(by = ['Clean sheets', 'CS:GC'], ascending = False))\n",
    "\n",
    "#BAR CHART\n",
    "bar_chart1 = goalkeeper3.reset_index().sort_values(by = 'CS:GC', ascending = False).plot.bar(x = 'Player', y = 'CS:GC', color = 'Blue', title = 'Goalkeepers CS:GC (since 2014/15 season)')\n",
    "display(bar_chart1)"
   ]
  },
  {
   "cell_type": "markdown",
   "metadata": {},
   "source": [
    "(NOTE: Visualisation improvement - colour coded bars for each player matching between graphs) \n",
    "\n",
    "Since Jan Oblak has been at Atletico Madrid; Manuel Neuer, Gianluigi Buffon and himself are still statistically the top performing goalkeepers, appearing in the top 3 for total clean sheets and registering significantly superior clean sheets to goals conceded ratios than the others. The only keepers from the subjective 'top 7 in the world' to have kept more clean sheets than goals conceded in their respective leagues are Oblak and Neuer. \n",
    "\n",
    "This time, Oblak beats Buffon to the top clean sheet holder at 72 to 67. However, since the 2014/15 season, Manuel Neuer claims the title for best clean sheets to goals conceded ratio (1.09 to 1.04). This is surprising given recent high media coverage of the Oblak statistic, especially with a number of posts citing the statistic over this time period.\n",
    "\n",
    "## Evaluation\n",
    "\n",
    "The article praises the brilliant performances of Jan Oblak over recent seasons and correctly proves his statistical superiority over David De Gea but the deeper research conducted here suggests that it may be too early to definitively claim that Jan Oblak is the best goalkeeper in the world. \n",
    "\n",
    "To better distinguish who stakes the biggest claim to being the best goal keeper in the world, it is worth trying to eliminate the potential team or league biases. Jan Oblak's statistics are deflated when we remove his performances outside of the 'top 4 leagues' in Europe. De Gea and Courtois both perform relatively poorly in the clean sheet to goals conceded ratios. Could this be influenced by playing in the Premier League over these periods?\n",
    "\n",
    "Further analysis that could be completed:\n",
    "- Compare goals conceded per league and distribution of goals conceded within the league. We could use these results to scale our data by league.\n",
    "- Expansion of the goalkeeper shortlist to remove any bias selection.\n",
    "- Compare number of shots faced to assess the percentage of goals conceded per shots.\n",
    "- Use of a more advanced metric such as xG/xGoT to assess the quality of these shots.\n",
    "- Analyse metrics that quantify goalkeeper's abilities, other than shot stopping, such as distribution.\n",
    "\n",
    "An example of an analysis into goalkeeper's performances using the xGoT metric can be found below:\n",
    "\n",
    "https://www.skysports.com/football/news/11661/11212584/david-de-gea-premier-leagues-top-performing-goalkeeper-stats-reveal\n",
    "\n",
    "This was conducted during the 2017/18 Premier League season. It would be interesting to see the results if this was expanded over more leagues and multiple seasons."
   ]
  }
 ],
 "metadata": {
  "kernelspec": {
   "display_name": "Python 3",
   "language": "python",
   "name": "python3"
  },
  "language_info": {
   "codemirror_mode": {
    "name": "ipython",
    "version": 3
   },
   "file_extension": ".py",
   "mimetype": "text/x-python",
   "name": "python",
   "nbconvert_exporter": "python",
   "pygments_lexer": "ipython3",
   "version": "3.6.5"
  }
 },
 "nbformat": 4,
 "nbformat_minor": 2
}
